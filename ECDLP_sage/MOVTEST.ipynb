{
 "cells": [
  {
   "cell_type": "code",
   "execution_count": 40,
   "metadata": {},
   "outputs": [
    {
     "ename": "ValueError",
     "evalue": "No point with x-coordinate a on Elliptic Curve defined by y^2 = x^3 + x + 16 over Finite Field in a of size 17^2",
     "output_type": "error",
     "traceback": [
      "\u001b[0;31m---------------------------------------------------------------------------\u001b[0m",
      "\u001b[0;31mValueError\u001b[0m                                Traceback (most recent call last)",
      "\u001b[0;32m<ipython-input-40-c4977ba6a4b3>\u001b[0m in \u001b[0;36m<module>\u001b[0;34m\u001b[0m\n\u001b[1;32m     23\u001b[0m \u001b[0mPK\u001b[0m \u001b[0;34m=\u001b[0m \u001b[0mEK\u001b[0m\u001b[0;34m(\u001b[0m\u001b[0mP\u001b[0m\u001b[0;34m)\u001b[0m\u001b[0;34m\u001b[0m\u001b[0;34m\u001b[0m\u001b[0m\n\u001b[1;32m     24\u001b[0m \u001b[0mGK\u001b[0m \u001b[0;34m=\u001b[0m \u001b[0mEK\u001b[0m\u001b[0;34m(\u001b[0m\u001b[0mG\u001b[0m\u001b[0;34m)\u001b[0m\u001b[0;34m\u001b[0m\u001b[0;34m\u001b[0m\u001b[0m\n\u001b[0;32m---> 25\u001b[0;31m \u001b[0mQK\u001b[0m \u001b[0;34m=\u001b[0m \u001b[0mEK\u001b[0m\u001b[0;34m.\u001b[0m\u001b[0mlift_x\u001b[0m\u001b[0;34m(\u001b[0m\u001b[0ma\u001b[0m\u001b[0;34m)\u001b[0m  \u001b[0;31m# Independent from PK\u001b[0m\u001b[0;34m\u001b[0m\u001b[0;34m\u001b[0m\u001b[0m\n\u001b[0m\u001b[1;32m     26\u001b[0m \u001b[0mAA\u001b[0m \u001b[0;34m=\u001b[0m \u001b[0mPK\u001b[0m\u001b[0;34m.\u001b[0m\u001b[0mtate_pairing\u001b[0m\u001b[0;34m(\u001b[0m\u001b[0mQK\u001b[0m\u001b[0;34m,\u001b[0m \u001b[0mE\u001b[0m\u001b[0;34m.\u001b[0m\u001b[0morder\u001b[0m\u001b[0;34m(\u001b[0m\u001b[0;34m)\u001b[0m\u001b[0;34m,\u001b[0m \u001b[0mk\u001b[0m\u001b[0;34m)\u001b[0m\u001b[0;34m\u001b[0m\u001b[0;34m\u001b[0m\u001b[0m\n\u001b[1;32m     27\u001b[0m \u001b[0mGG\u001b[0m \u001b[0;34m=\u001b[0m \u001b[0mGK\u001b[0m\u001b[0;34m.\u001b[0m\u001b[0mtate_pairing\u001b[0m\u001b[0;34m(\u001b[0m\u001b[0mQK\u001b[0m\u001b[0;34m,\u001b[0m \u001b[0mE\u001b[0m\u001b[0;34m.\u001b[0m\u001b[0morder\u001b[0m\u001b[0;34m(\u001b[0m\u001b[0;34m)\u001b[0m\u001b[0;34m,\u001b[0m \u001b[0mk\u001b[0m\u001b[0;34m)\u001b[0m\u001b[0;34m\u001b[0m\u001b[0;34m\u001b[0m\u001b[0m\n",
      "\u001b[0;32m/opt/sagemath-9.3/local/lib/python3.7/site-packages/sage/schemes/elliptic_curves/ell_generic.py\u001b[0m in \u001b[0;36mlift_x\u001b[0;34m(self, x, all, extend)\u001b[0m\n\u001b[1;32m    894\u001b[0m                 \u001b[0;32mreturn\u001b[0m \u001b[0;34m[\u001b[0m\u001b[0;34m]\u001b[0m\u001b[0;34m\u001b[0m\u001b[0;34m\u001b[0m\u001b[0m\n\u001b[1;32m    895\u001b[0m             \u001b[0;32melse\u001b[0m\u001b[0;34m:\u001b[0m\u001b[0;34m\u001b[0m\u001b[0;34m\u001b[0m\u001b[0m\n\u001b[0;32m--> 896\u001b[0;31m                 \u001b[0;32mraise\u001b[0m \u001b[0mValueError\u001b[0m\u001b[0;34m(\u001b[0m\u001b[0;34m\"No point with x-coordinate {} on {}\"\u001b[0m\u001b[0;34m.\u001b[0m\u001b[0mformat\u001b[0m\u001b[0;34m(\u001b[0m\u001b[0mx\u001b[0m\u001b[0;34m,\u001b[0m \u001b[0mself\u001b[0m\u001b[0;34m)\u001b[0m\u001b[0;34m)\u001b[0m\u001b[0;34m\u001b[0m\u001b[0;34m\u001b[0m\u001b[0m\n\u001b[0m\u001b[1;32m    897\u001b[0m \u001b[0;34m\u001b[0m\u001b[0m\n\u001b[1;32m    898\u001b[0m         \u001b[0;31m# Now make the extension needed to contain the y-coordinates:\u001b[0m\u001b[0;34m\u001b[0m\u001b[0;34m\u001b[0m\u001b[0;34m\u001b[0m\u001b[0m\n",
      "\u001b[0;31mValueError\u001b[0m: No point with x-coordinate a on Elliptic Curve defined by y^2 = x^3 + x + 16 over Finite Field in a of size 17^2"
     ]
    }
   ],
   "source": [
    "# Curve parameters\n",
    "p = 17\n",
    "a, b = 1, -1\n",
    "\n",
    "# Target secret key\n",
    "d = 8\n",
    "\n",
    "# Setup curve\n",
    "E = EllipticCurve(GF(p), [a, b])\n",
    "G = E.gen(0)\n",
    "\n",
    "P = d * G\n",
    "\n",
    "# Find the embedding degree\n",
    "# p**k - 1 === 0 (mod order)\n",
    "order = E.order()\n",
    "k = 1\n",
    "while (p**k - 1) % order:\n",
    "    k += 1\n",
    "\n",
    "K.<a> = GF(p**k)\n",
    "EK = E.base_extend(K)\n",
    "PK = EK(P)\n",
    "GK = EK(G)\n",
    "QK = EK.lift_x(a + 2)  # Independent from PK\n",
    "AA = PK.tate_pairing(QK, E.order(), k)\n",
    "GG = GK.tate_pairing(QK, E.order(), k)\n",
    "dlA = AA.log(GG)\n",
    "\n",
    "print(dlA)"
   ]
  },
  {
   "cell_type": "code",
   "execution_count": 27,
   "metadata": {},
   "outputs": [
    {
     "data": {
      "text/plain": [
       "1"
      ]
     },
     "execution_count": 27,
     "metadata": {},
     "output_type": "execute_result"
    }
   ],
   "source": [
    "9 ** 16 % 17"
   ]
  },
  {
   "cell_type": "code",
   "execution_count": 34,
   "metadata": {},
   "outputs": [
    {
     "data": {
      "text/plain": [
       "(11 : 7 : 1)"
      ]
     },
     "execution_count": 34,
     "metadata": {},
     "output_type": "execute_result"
    }
   ],
   "source": [
    "G"
   ]
  },
  {
   "cell_type": "code",
   "execution_count": 35,
   "metadata": {},
   "outputs": [
    {
     "data": {
      "text/plain": [
       "(4 : 4 : 1)"
      ]
     },
     "execution_count": 35,
     "metadata": {},
     "output_type": "execute_result"
    }
   ],
   "source": [
    "P"
   ]
  },
  {
   "cell_type": "code",
   "execution_count": 37,
   "metadata": {},
   "outputs": [
    {
     "data": {
      "text/plain": [
       "(4 : 4 : 1)"
      ]
     },
     "execution_count": 37,
     "metadata": {},
     "output_type": "execute_result"
    }
   ],
   "source": [
    "8 * G"
   ]
  },
  {
   "cell_type": "code",
   "execution_count": 7,
   "metadata": {},
   "outputs": [
    {
     "data": {
      "text/plain": [
       "2"
      ]
     },
     "execution_count": 7,
     "metadata": {},
     "output_type": "execute_result"
    }
   ],
   "source": [
    "k"
   ]
  },
  {
   "cell_type": "code",
   "execution_count": 20,
   "metadata": {},
   "outputs": [],
   "source": [
    "# Curve parameters\n",
    "p =  0x100000000000000000000000000000000000018f3\n",
    "a =  0x1\n",
    "b =  0x0\n",
    "\n",
    "\n",
    "\n",
    "# Setup curve\n",
    "E = EllipticCurve(GF(p), [a, b])\n",
    "P = E.point([684019998100054840211147481095914635190453415903, 56305408111182227359718735880386122836372913738])\n",
    "Q = E.point([1042517685640172869838325751698170388792790341751, 600014912768132632409964071651227335951517428425])\n",
    "\n",
    "# Find the embedding degree\n",
    "# p**k - 1 === 0 (mod order)\n",
    "order = E.order()\n",
    "k = 1\n",
    "while (p**k - 1) % order:\n",
    "    k += 1"
   ]
  },
  {
   "cell_type": "code",
   "execution_count": 21,
   "metadata": {},
   "outputs": [
    {
     "data": {
      "text/plain": [
       "2"
      ]
     },
     "execution_count": 21,
     "metadata": {},
     "output_type": "execute_result"
    }
   ],
   "source": [
    "k"
   ]
  },
  {
   "cell_type": "code",
   "execution_count": 22,
   "metadata": {},
   "outputs": [
    {
     "name": "stdout",
     "output_type": "stream",
     "text": [
      "0\n"
     ]
    }
   ],
   "source": [
    "K.<a> = GF(p**k)\n",
    "EK = E.base_extend(K)\n",
    "PK = EK(Q)\n",
    "GK = EK(P)\n",
    "QK = EK.lift_x(a + 2)  # Independent from PK\n",
    "AA = PK.tate_pairing(QK, E.order(), k)\n",
    "GG = GK.tate_pairing(QK, E.order(), k)\n",
    "dlA = AA.log(GG)\n",
    "\n",
    "print(dlA)"
   ]
  },
  {
   "cell_type": "code",
   "execution_count": 15,
   "metadata": {},
   "outputs": [
    {
     "data": {
      "text/plain": [
       "Elliptic Curve defined by y^2 = x^3 + x over Finite Field in a of size 1461501637330902918203684832716283019655932549363^2"
      ]
     },
     "execution_count": 15,
     "metadata": {},
     "output_type": "execute_result"
    }
   ],
   "source": [
    "EK"
   ]
  },
  {
   "cell_type": "code",
   "execution_count": 16,
   "metadata": {},
   "outputs": [
    {
     "data": {
      "text/plain": [
       "(a + 2 : 1265528357901042130883741379250743670089077256096*a + 225869506537153256307970339618041873796170458765 : 1)"
      ]
     },
     "execution_count": 16,
     "metadata": {},
     "output_type": "execute_result"
    }
   ],
   "source": [
    "QK"
   ]
  },
  {
   "cell_type": "code",
   "execution_count": 17,
   "metadata": {},
   "outputs": [
    {
     "data": {
      "text/plain": [
       "1"
      ]
     },
     "execution_count": 17,
     "metadata": {},
     "output_type": "execute_result"
    }
   ],
   "source": [
    "AA"
   ]
  },
  {
   "cell_type": "code",
   "execution_count": 18,
   "metadata": {},
   "outputs": [
    {
     "data": {
      "text/plain": [
       "1"
      ]
     },
     "execution_count": 18,
     "metadata": {},
     "output_type": "execute_result"
    }
   ],
   "source": [
    "GG"
   ]
  },
  {
   "cell_type": "code",
   "execution_count": 23,
   "metadata": {},
   "outputs": [
    {
     "data": {
      "text/plain": [
       "Elliptic Curve defined by y^2 = x^3 + x over Finite Field of size 1461501637330902918203684832716283019655932549363"
      ]
     },
     "execution_count": 23,
     "metadata": {},
     "output_type": "execute_result"
    }
   ],
   "source": [
    "E"
   ]
  },
  {
   "cell_type": "code",
   "execution_count": null,
   "metadata": {},
   "outputs": [],
   "source": []
  }
 ],
 "metadata": {
  "kernelspec": {
   "display_name": "SageMath 9.3",
   "language": "sage",
   "name": "sagemath"
  },
  "language_info": {
   "codemirror_mode": {
    "name": "ipython",
    "version": 3
   },
   "file_extension": ".py",
   "mimetype": "text/x-python",
   "name": "python",
   "nbconvert_exporter": "python",
   "pygments_lexer": "ipython3",
   "version": "3.7.10"
  }
 },
 "nbformat": 4,
 "nbformat_minor": 4
}
