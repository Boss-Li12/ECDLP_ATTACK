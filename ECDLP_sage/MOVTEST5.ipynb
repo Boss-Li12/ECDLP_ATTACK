{
 "cells": [
  {
   "cell_type": "code",
   "execution_count": null,
   "metadata": {},
   "outputs": [
    {
     "name": "stdout",
     "output_type": "stream",
     "text": [
      "computing pairings\n"
     ]
    }
   ],
   "source": [
    "a = 1\n",
    "b = 0\n",
    "p = 3009944491747103173592552029257669572283120430367\n",
    "order = 3009944491747103173592552029257669572283120430368\n",
    "gx = 2900641855339024752663919275085178630626065454884\n",
    "gy = 1803317565451817334919844936679231131166218238368\n",
    "\n",
    "F = GF(p)\n",
    "k = 2 # min_k E.order() | (p^k-1)\n",
    "Fy = GF(p^k,'y')\n",
    "\n",
    "E = EllipticCurve(F,[a,b])\n",
    "Ee = EllipticCurve(Fy,[a,b])\n",
    "\n",
    "P = E((gx,gy))\n",
    "xP = E((0x1ddc663e98edb9e848b66dd961bb555396fa680, 0xdedc439c092188a093b2b887dcbee2abe302934c))\n",
    "\n",
    "Pe = Ee(P)\n",
    "xPe = Ee(xP)\n",
    "\n",
    "R = Ee.random_point()\n",
    "m = R.order()\n",
    "d = gcd(m, P.order())\n",
    "Q = (m//d)*R\n",
    "\n",
    "assert P.order()/Q.order() in ZZ\n",
    "assert P.order() == Q.order()\n",
    "\n",
    "n = P.order()\n",
    "print('computing pairings')\n",
    "alpha = Pe.weil_pairing(Q,n)\n",
    "beta = xPe.weil_pairing(Q,n)\n",
    "\n",
    "print('computing log')\n",
    "dd = beta.log(alpha)\n",
    "print(dd)"
   ]
  },
  {
   "cell_type": "code",
   "execution_count": null,
   "metadata": {},
   "outputs": [],
   "source": []
  }
 ],
 "metadata": {
  "kernelspec": {
   "display_name": "SageMath 9.3",
   "language": "sage",
   "name": "sagemath"
  },
  "language_info": {
   "codemirror_mode": {
    "name": "ipython",
    "version": 3
   },
   "file_extension": ".py",
   "mimetype": "text/x-python",
   "name": "python",
   "nbconvert_exporter": "python",
   "pygments_lexer": "ipython3",
   "version": "3.7.10"
  }
 },
 "nbformat": 4,
 "nbformat_minor": 4
}
