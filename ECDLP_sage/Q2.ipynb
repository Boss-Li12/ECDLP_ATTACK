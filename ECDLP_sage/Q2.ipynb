{
 "cells": [
  {
   "cell_type": "code",
   "execution_count": 1,
   "metadata": {},
   "outputs": [
    {
     "data": {
      "text/plain": [
       "Finite Field of size 730750818665451459101842416358141509827966271787"
      ]
     },
     "execution_count": 1,
     "metadata": {},
     "output_type": "execute_result"
    }
   ],
   "source": [
    "p =  0x800000000000000000000000000000000000012b\n",
    "a =  -0x3\n",
    "b =  0x74f\n",
    "F = GF(p)\n",
    "F"
   ]
  },
  {
   "cell_type": "code",
   "execution_count": 2,
   "metadata": {},
   "outputs": [
    {
     "data": {
      "text/plain": [
       "Elliptic Curve defined by y^2 = x^3 + 730750818665451459101842416358141509827966271784*x + 1871 over Finite Field of size 730750818665451459101842416358141509827966271787"
      ]
     },
     "execution_count": 2,
     "metadata": {},
     "output_type": "execute_result"
    }
   ],
   "source": [
    "E = EllipticCurve(F, [a, b])\n",
    "E"
   ]
  },
  {
   "cell_type": "code",
   "execution_count": 10,
   "metadata": {},
   "outputs": [
    {
     "data": {
      "text/plain": [
       "365375409332725729550921322111203318673470322874"
      ]
     },
     "execution_count": 10,
     "metadata": {},
     "output_type": "execute_result"
    }
   ],
   "source": [
    "P = E(216315331468405513874079342642624031943967265127, 3167397273789126583482132939565653471687127317)\n",
    "P_order = P.order()\n",
    "P_order"
   ]
  },
  {
   "cell_type": "code",
   "execution_count": 11,
   "metadata": {},
   "outputs": [
    {
     "data": {
      "text/plain": [
       "2 * 11^2 * 2963 * 9333835613 * 13908956981 * 15535198027 * 252650866549"
      ]
     },
     "execution_count": 11,
     "metadata": {},
     "output_type": "execute_result"
    }
   ],
   "source": [
    "factor(P_order)"
   ]
  },
  {
   "cell_type": "code",
   "execution_count": 5,
   "metadata": {},
   "outputs": [],
   "source": [
    "Q = E.point([385431921265525149558748053735168290121198805709, 607459596769029792252571597077928352904449445990])"
   ]
  },
  {
   "cell_type": "code",
   "execution_count": 12,
   "metadata": {},
   "outputs": [
    {
     "name": "stdout",
     "output_type": "stream",
     "text": [
      "48904402892901392785196496554897029798167881093\n"
     ]
    }
   ],
   "source": [
    "primes = [2, 121, 2963, 9333835613, 13908956981, 15535198027, 252650866549] # factor(P.order())\n",
    "\n",
    "dlogs = []\n",
    "for fac in primes:\n",
    "    t = int(P.order()) // int(fac)\n",
    "    dlog = discrete_log(t*Q, t*P, operation=\"+\")\n",
    "    dlogs += [dlog]\n",
    "    \n",
    "print(crt(dlogs, primes))"
   ]
  },
  {
   "cell_type": "code",
   "execution_count": 13,
   "metadata": {},
   "outputs": [
    {
     "data": {
      "text/plain": [
       "(385431921265525149558748053735168290121198805709 : 607459596769029792252571597077928352904449445990 : 1)"
      ]
     },
     "execution_count": 13,
     "metadata": {},
     "output_type": "execute_result"
    }
   ],
   "source": [
    "cal_Q = 48904402892901392785196496554897029798167881093 * P\n",
    "cal_Q"
   ]
  },
  {
   "cell_type": "code",
   "execution_count": 8,
   "metadata": {},
   "outputs": [
    {
     "data": {
      "text/plain": [
       "(385431921265525149558748053735168290121198805709 : 607459596769029792252571597077928352904449445990 : 1)"
      ]
     },
     "execution_count": 8,
     "metadata": {},
     "output_type": "execute_result"
    }
   ],
   "source": [
    "Q"
   ]
  },
  {
   "cell_type": "code",
   "execution_count": null,
   "metadata": {},
   "outputs": [],
   "source": []
  }
 ],
 "metadata": {
  "kernelspec": {
   "display_name": "SageMath 9.3",
   "language": "sage",
   "name": "sagemath"
  },
  "language_info": {
   "codemirror_mode": {
    "name": "ipython",
    "version": 3
   },
   "file_extension": ".py",
   "mimetype": "text/x-python",
   "name": "python",
   "nbconvert_exporter": "python",
   "pygments_lexer": "ipython3",
   "version": "3.7.10"
  }
 },
 "nbformat": 4,
 "nbformat_minor": 4
}
