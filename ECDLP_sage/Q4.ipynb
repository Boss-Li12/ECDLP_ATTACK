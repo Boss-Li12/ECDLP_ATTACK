{
 "cells": [
  {
   "cell_type": "code",
   "execution_count": 3,
   "metadata": {},
   "outputs": [
    {
     "data": {
      "text/plain": [
       "Finite Field of size 732392985241959794169948913370693512560507803779"
      ]
     },
     "execution_count": 3,
     "metadata": {},
     "output_type": "execute_result"
    }
   ],
   "source": [
    "p =  0x8049a325d5a0ed72448756f61ddf54149b7ed883\n",
    "a =  0x0\n",
    "b =  0x8\n",
    "F = GF(p)\n",
    "F"
   ]
  },
  {
   "cell_type": "code",
   "execution_count": 4,
   "metadata": {},
   "outputs": [
    {
     "data": {
      "text/plain": [
       "Elliptic Curve defined by y^2 = x^3 + 8 over Finite Field of size 732392985241959794169948913370693512560507803779"
      ]
     },
     "execution_count": 4,
     "metadata": {},
     "output_type": "execute_result"
    }
   ],
   "source": [
    "E = EllipticCurve(F, [a, b])\n",
    "E"
   ]
  },
  {
   "cell_type": "code",
   "execution_count": 5,
   "metadata": {},
   "outputs": [
    {
     "data": {
      "text/plain": [
       "366196492620979897084975197829556024267311277042"
      ]
     },
     "execution_count": 5,
     "metadata": {},
     "output_type": "execute_result"
    }
   ],
   "source": [
    "P = E.point([172586099649721673713750782301903058673174209523, 129361889830381173644446124530331477914375886197])\n",
    "P_order = P.order()\n",
    "P_order"
   ]
  },
  {
   "cell_type": "code",
   "execution_count": 6,
   "metadata": {},
   "outputs": [
    {
     "data": {
      "text/plain": [
       "2 * 13 * 3282463 * 40301143 * 106469111404179991516915685034613"
      ]
     },
     "execution_count": 6,
     "metadata": {},
     "output_type": "execute_result"
    }
   ],
   "source": [
    "factor(P_order)"
   ]
  },
  {
   "cell_type": "code",
   "execution_count": 7,
   "metadata": {},
   "outputs": [
    {
     "name": "stdout",
     "output_type": "stream",
     "text": [
      "1\n"
     ]
    }
   ],
   "source": [
    "log_p = log(p, 2).n(digits = 10) #a range to search\n",
    "k = 1\n",
    "for i in range(1, int(log_p)):\n",
    "    if pow(p, i, P_order) == 1:\n",
    "        k = i\n",
    "        break\n",
    "print(k)"
   ]
  },
  {
   "cell_type": "code",
   "execution_count": 9,
   "metadata": {},
   "outputs": [
    {
     "data": {
      "text/plain": [
       "366196492620979897084973715541137488293196526737"
      ]
     },
     "execution_count": 9,
     "metadata": {},
     "output_type": "execute_result"
    }
   ],
   "source": [
    "pow(p, 1, P_order)"
   ]
  },
  {
   "cell_type": "code",
   "execution_count": 5,
   "metadata": {},
   "outputs": [],
   "source": [
    "Q = E.point([407464273092307313596164768300024239344514792915, 391118139963892804765011322554338158300522312148])"
   ]
  },
  {
   "cell_type": "code",
   "execution_count": 23,
   "metadata": {},
   "outputs": [],
   "source": [
    "primes = [2, 13, 3282463, 40301143, 106469111404179991516915685034613] # factor(P.order())\n",
    "\n",
    "dlogs = []\n",
    "\n",
    "for fac in primes[:-1]:\n",
    "    t = int(P.order()) // int(fac)\n",
    "    #dlog = (t*P).discrete_log(t*Q) #discrete_log(t*sGq, t*Gq, operation=\"+\")\n",
    "    dlog = discrete_log(t*Q, t*P, operation=\"+\")\n",
    "    dlogs += [dlog]\n",
    "    #print(\"factor: \"+str(fac)+\", Discrete Log: \"+str(dlog)) #calculates discrete logarithm for each prime order\n",
    "\n",
    "q_secret = crt(dlogs, primes[:-1])"
   ]
  },
  {
   "cell_type": "code",
   "execution_count": 24,
   "metadata": {},
   "outputs": [
    {
     "data": {
      "text/plain": [
       "1671329864680707"
      ]
     },
     "execution_count": 24,
     "metadata": {},
     "output_type": "execute_result"
    }
   ],
   "source": [
    "q_secret"
   ]
  },
  {
   "cell_type": "code",
   "execution_count": 25,
   "metadata": {},
   "outputs": [
    {
     "data": {
      "text/plain": [
       "(407464273092307313596164768300024239344514792915 : 391118139963892804765011322554338158300522312148 : 1)"
      ]
     },
     "execution_count": 25,
     "metadata": {},
     "output_type": "execute_result"
    }
   ],
   "source": [
    "Q"
   ]
  },
  {
   "cell_type": "code",
   "execution_count": 26,
   "metadata": {},
   "outputs": [
    {
     "data": {
      "text/plain": [
       "(30011580585875292719370288900736794480189894542 : 51830863237563665407028730276243799343680409012 : 1)"
      ]
     },
     "execution_count": 26,
     "metadata": {},
     "output_type": "execute_result"
    }
   ],
   "source": [
    "q_secret * P"
   ]
  },
  {
   "cell_type": "code",
   "execution_count": 2,
   "metadata": {},
   "outputs": [
    {
     "data": {
      "text/plain": [
       "732392985241959794169948913370693512560507803779"
      ]
     },
     "execution_count": 2,
     "metadata": {},
     "output_type": "execute_result"
    }
   ],
   "source": [
    "p"
   ]
  },
  {
   "cell_type": "code",
   "execution_count": null,
   "metadata": {},
   "outputs": [],
   "source": []
  }
 ],
 "metadata": {
  "kernelspec": {
   "display_name": "SageMath 9.3",
   "language": "sage",
   "name": "sagemath"
  },
  "language_info": {
   "codemirror_mode": {
    "name": "ipython",
    "version": 3
   },
   "file_extension": ".py",
   "mimetype": "text/x-python",
   "name": "python",
   "nbconvert_exporter": "python",
   "pygments_lexer": "ipython3",
   "version": "3.7.10"
  }
 },
 "nbformat": 4,
 "nbformat_minor": 4
}
