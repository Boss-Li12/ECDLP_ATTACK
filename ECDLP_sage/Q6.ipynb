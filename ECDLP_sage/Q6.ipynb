{
 "cells": [
  {
   "cell_type": "code",
   "execution_count": 10,
   "metadata": {},
   "outputs": [
    {
     "data": {
      "text/plain": [
       "Finite Field of size 1047443933930894850964746261635441526395689961833"
      ]
     },
     "execution_count": 10,
     "metadata": {},
     "output_type": "execute_result"
    }
   ],
   "source": [
    "p =  0xb77902abd8db9627f5d7ceca5c17ef6c5e3b0969\n",
    "a =  0x9021748e5db7962e1b208e3949d42ad0388a18c\n",
    "b =  0x744f47974caabdd8b8192e99da51c87f91cc453e\n",
    "F = GF(p)\n",
    "F"
   ]
  },
  {
   "cell_type": "code",
   "execution_count": 11,
   "metadata": {},
   "outputs": [
    {
     "data": {
      "text/plain": [
       "Elliptic Curve defined by y^2 = x^3 + 51427546816251251810159796427779393201558299020*x + 664010924743095732769724310138441422129421108542 over Finite Field of size 1047443933930894850964746261635441526395689961833"
      ]
     },
     "execution_count": 11,
     "metadata": {},
     "output_type": "execute_result"
    }
   ],
   "source": [
    "E = EllipticCurve(F, [a, b])\n",
    "E"
   ]
  },
  {
   "cell_type": "code",
   "execution_count": 12,
   "metadata": {},
   "outputs": [
    {
     "data": {
      "text/plain": [
       "1047443933930894850964746980919119006920505483911"
      ]
     },
     "execution_count": 12,
     "metadata": {},
     "output_type": "execute_result"
    }
   ],
   "source": [
    "P = E.point([551592314942731624408374865606004530348558215256, 286282771139030180531748423724615799872521602949])\n",
    "P_order = P.order()\n",
    "P_order"
   ]
  },
  {
   "cell_type": "code",
   "execution_count": 13,
   "metadata": {},
   "outputs": [
    {
     "data": {
      "text/plain": [
       "1047443933930894850964746980919119006920505483911"
      ]
     },
     "execution_count": 13,
     "metadata": {},
     "output_type": "execute_result"
    }
   ],
   "source": [
    "factor(P_order)"
   ]
  },
  {
   "cell_type": "code",
   "execution_count": 14,
   "metadata": {},
   "outputs": [
    {
     "data": {
      "text/plain": [
       "1"
      ]
     },
     "execution_count": 14,
     "metadata": {},
     "output_type": "execute_result"
    }
   ],
   "source": [
    "gcd(P_order, p)"
   ]
  },
  {
   "cell_type": "code",
   "execution_count": 15,
   "metadata": {},
   "outputs": [],
   "source": [
    "Q = E.point([303531410629863446877959215957767056347575057371, 638102265923854310836385903393737835302736618629])"
   ]
  },
  {
   "cell_type": "code",
   "execution_count": 16,
   "metadata": {},
   "outputs": [],
   "source": [
    "log_p = log(p, 2).n(digits = 10) #a range to search\n",
    "k = 1\n",
    "for i in range(1, int(log_p)):\n",
    "    if pow(p, i, P_order) == 1:\n",
    "        k = i\n",
    "        break"
   ]
  },
  {
   "cell_type": "code",
   "execution_count": 17,
   "metadata": {},
   "outputs": [
    {
     "data": {
      "text/plain": [
       "1"
      ]
     },
     "execution_count": 17,
     "metadata": {},
     "output_type": "execute_result"
    }
   ],
   "source": [
    "k"
   ]
  },
  {
   "cell_type": "code",
   "execution_count": 18,
   "metadata": {},
   "outputs": [],
   "source": [
    "def MOV2(E, P, Q, k, p):\n",
    "    '''\n",
    "    E = The curve\n",
    "    P = a point of order l\n",
    "    k = embedding degree\n",
    "    '''\n",
    "    #Step 1 compute the number of points in E(F_{p^k}) => N\n",
    "    \n",
    "    m = P.order()\n",
    "    E_k = E.base_extend(GF(p**k))\n",
    "    QK = E_k(Q)\n",
    "    PK  = E_k(P)\n",
    "    \n",
    "    n_list = []\n",
    "    d_list = []\n",
    "    least_common_multiple = 1\n",
    "    \n",
    "    while least_common_multiple !=m:\n",
    "        T = E_k.random_point()\n",
    "        t = T.order()\n",
    "        d = gcd(t, m)\n",
    "        if d in d_list:\n",
    "            continue\n",
    "        T_prime = t//d * T #T_prime has order d | m => T_prime is in E[m]\n",
    "        \n",
    "        alpha = PK.weil_pairing(T_prime, m)\n",
    "        beta = QK.weil_pairing(T_prime, m) # => both are roots in \\mu_d in F_{p^k}\n",
    "        \n",
    "        n = beta.log(alpha)  #this gives n mod d\n",
    "        n_list.append(n)\n",
    "        d_list.append(d)\n",
    "        least_common_multiple = lcm(least_common_multiple, d)\n",
    "    print(n_list)\n",
    "    return n_list[-1]\n",
    "    #return n_list[0] if len(n_list) == 1 else crt(n_list, d_list)"
   ]
  },
  {
   "cell_type": "code",
   "execution_count": 19,
   "metadata": {},
   "outputs": [
    {
     "name": "stdout",
     "output_type": "stream",
     "text": [
      "[0]\n"
     ]
    }
   ],
   "source": [
    "n_fin = MOV2(E, P, Q, k, p)"
   ]
  },
  {
   "cell_type": "code",
   "execution_count": null,
   "metadata": {},
   "outputs": [],
   "source": []
  }
 ],
 "metadata": {
  "kernelspec": {
   "display_name": "SageMath 9.3",
   "language": "sage",
   "name": "sagemath"
  },
  "language_info": {
   "codemirror_mode": {
    "name": "ipython",
    "version": 3
   },
   "file_extension": ".py",
   "mimetype": "text/x-python",
   "name": "python",
   "nbconvert_exporter": "python",
   "pygments_lexer": "ipython3",
   "version": "3.7.10"
  }
 },
 "nbformat": 4,
 "nbformat_minor": 4
}
