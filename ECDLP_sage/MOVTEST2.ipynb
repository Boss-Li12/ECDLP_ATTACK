{
 "cells": [
  {
   "cell_type": "code",
   "execution_count": 1,
   "metadata": {},
   "outputs": [],
   "source": [
    "p = 1331169830894825846283645180581\n",
    "a = -35\n",
    "b = 98\n",
    "E = EllipticCurve(GF(p), [a,b])\n",
    "G = E(479691812266187139164535778017, 568535594075310466177352868412)\n",
    "A = E(1110072782478160369250829345256, 800079550745409318906383650948)"
   ]
  },
  {
   "cell_type": "code",
   "execution_count": 2,
   "metadata": {},
   "outputs": [],
   "source": [
    "log_p = log(p, 2).n(digits = 10) #a range to search\n",
    "G_order = G.order()\n",
    "k = 1\n",
    "for i in range(1, int(log_p)):\n",
    "    if pow(p, i, G_order) == 1:\n",
    "        k = i\n",
    "        break"
   ]
  },
  {
   "cell_type": "code",
   "execution_count": 3,
   "metadata": {},
   "outputs": [
    {
     "data": {
      "text/plain": [
       "2"
      ]
     },
     "execution_count": 3,
     "metadata": {},
     "output_type": "execute_result"
    }
   ],
   "source": [
    "k"
   ]
  },
  {
   "cell_type": "code",
   "execution_count": 4,
   "metadata": {},
   "outputs": [],
   "source": [
    "def MOV(E, P, Q, k, p):\n",
    "    '''\n",
    "    E = The curve\n",
    "    P = a point of order l\n",
    "    k = embedding degree\n",
    "    '''\n",
    "    #Step 1 compute the number of points in E(F_{p^k}) => N\n",
    "    \n",
    "    \n",
    "    E_k = E.base_extend(GF(p^k))\n",
    "    N = E_k.order()\n",
    "    m = P.order()\n",
    "    PK = E_k(P)\n",
    "    QK = E_k(Q)\n",
    "    \n",
    "    while True:\n",
    "        #Step 2 Select  a random point T which is on E_k but not on E\n",
    "        T = E_k.random_point()        \n",
    "        try:\n",
    "            E(*T.xy())\n",
    "            continue\n",
    "        except:\n",
    "            pass\n",
    "        \n",
    "        #Step 3 Compute T_prime = (T_order / gcd(T_order, m)) * T;  if T = 0 select another T. Otherwise T_prime has order m\n",
    "        t = T.order()\n",
    "        d = gcd(m, t)\n",
    "        T_prime = (t//d) * T #=>  point of order m\n",
    "        #print(N//m, t//d)\n",
    "        if T_prime.is_zero():\n",
    "            continue\n",
    "            \n",
    "        #Step 4 Compute the Weil pairing values. P, Q, and T_prime all have order m\n",
    "        alpha = PK.weil_pairing(T_prime, m)\n",
    "        if alpha == 1:\n",
    "            continue\n",
    "        beta = QK.weil_pairing(T_prime, m)\n",
    "        \n",
    "        #Step 5 Solve dlp for beta = alpha ^ n in F*_{p^k}\n",
    "        n = beta.log(alpha)\n",
    "        break\n",
    "    return n"
   ]
  },
  {
   "cell_type": "code",
   "execution_count": 5,
   "metadata": {},
   "outputs": [],
   "source": [
    "n = MOV(E, G, A, k, p)"
   ]
  },
  {
   "cell_type": "code",
   "execution_count": 6,
   "metadata": {},
   "outputs": [
    {
     "data": {
      "text/plain": [
       "29618469991922269"
      ]
     },
     "execution_count": 6,
     "metadata": {},
     "output_type": "execute_result"
    }
   ],
   "source": [
    "n"
   ]
  },
  {
   "cell_type": "code",
   "execution_count": 7,
   "metadata": {},
   "outputs": [
    {
     "data": {
      "text/plain": [
       "True"
      ]
     },
     "execution_count": 7,
     "metadata": {},
     "output_type": "execute_result"
    }
   ],
   "source": [
    "n * G == A"
   ]
  },
  {
   "cell_type": "code",
   "execution_count": null,
   "metadata": {},
   "outputs": [],
   "source": []
  }
 ],
 "metadata": {
  "kernelspec": {
   "display_name": "SageMath 9.3",
   "language": "sage",
   "name": "sagemath"
  },
  "language_info": {
   "codemirror_mode": {
    "name": "ipython",
    "version": 3
   },
   "file_extension": ".py",
   "mimetype": "text/x-python",
   "name": "python",
   "nbconvert_exporter": "python",
   "pygments_lexer": "ipython3",
   "version": "3.7.10"
  }
 },
 "nbformat": 4,
 "nbformat_minor": 4
}
