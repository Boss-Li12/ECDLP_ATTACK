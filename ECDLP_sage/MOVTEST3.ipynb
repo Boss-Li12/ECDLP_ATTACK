{
 "cells": [
  {
   "cell_type": "code",
   "execution_count": 1,
   "metadata": {},
   "outputs": [],
   "source": [
    "p = 1331169830894825846283645180581\n",
    "a = -35\n",
    "b = 98\n",
    "E = EllipticCurve(GF(p), [a,b])\n",
    "G = E(479691812266187139164535778017, 568535594075310466177352868412)\n",
    "A = E(1110072782478160369250829345256, 800079550745409318906383650948)\n",
    "      "
   ]
  },
  {
   "cell_type": "code",
   "execution_count": 2,
   "metadata": {},
   "outputs": [],
   "source": [
    "log_p = log(p, 2).n(digits = 10) #a range to search\n",
    "G_order = G.order()\n",
    "k = 1\n",
    "for i in range(1, int(log_p)):\n",
    "    if pow(p, i, G_order) == 1:\n",
    "        k = i\n",
    "        break"
   ]
  },
  {
   "cell_type": "code",
   "execution_count": 3,
   "metadata": {},
   "outputs": [
    {
     "data": {
      "text/plain": [
       "2"
      ]
     },
     "execution_count": 3,
     "metadata": {},
     "output_type": "execute_result"
    }
   ],
   "source": [
    "k"
   ]
  },
  {
   "cell_type": "code",
   "execution_count": 4,
   "metadata": {},
   "outputs": [],
   "source": [
    "def MOV2(E, P, Q, k, p):\n",
    "    '''\n",
    "    E = The curve\n",
    "    P = a point of order l\n",
    "    k = embedding degree\n",
    "    '''\n",
    "    #Step 1 compute the number of points in E(F_{p^k}) => N\n",
    "    \n",
    "    m = P.order()\n",
    "    E_k = E.base_extend(GF(p**k))\n",
    "    QK = E_k(Q)\n",
    "    PK  = E_k(P)\n",
    "    \n",
    "    n_list = []\n",
    "    d_list = []\n",
    "    least_common_multiple = 1\n",
    "    \n",
    "    while least_common_multiple !=m:\n",
    "        T = E_k.random_point()\n",
    "        t = T.order()\n",
    "        d = gcd(t, m)\n",
    "        if d in d_list:\n",
    "            continue\n",
    "        T_prime = t//d * T #T_prime has order d | m => T_prime is in E[m]\n",
    "        \n",
    "        alpha = PK.weil_pairing(T_prime, m)\n",
    "        beta = QK.weil_pairing(T_prime, m) # => both are roots in \\mu_d in F_{p^k}\n",
    "        \n",
    "        n = beta.log(alpha)  #this gives n mod d\n",
    "        n_list.append(n)\n",
    "        d_list.append(d)\n",
    "        least_common_multiple = lcm(least_common_multiple, d)\n",
    "    print(n_list)\n",
    "    return n_list[-1]\n",
    "    #return n_list[0] if len(n_list) == 1 else crt(n_list, d_list)"
   ]
  },
  {
   "cell_type": "code",
   "execution_count": 5,
   "metadata": {},
   "outputs": [
    {
     "name": "stdout",
     "output_type": "stream",
     "text": [
      "[29618469991922269]\n"
     ]
    }
   ],
   "source": [
    "n_fin = MOV2(E, G, A, k, p)"
   ]
  },
  {
   "cell_type": "code",
   "execution_count": 8,
   "metadata": {},
   "outputs": [
    {
     "data": {
      "text/plain": [
       "True"
      ]
     },
     "execution_count": 8,
     "metadata": {},
     "output_type": "execute_result"
    }
   ],
   "source": [
    "n_fin * G==A"
   ]
  },
  {
   "cell_type": "code",
   "execution_count": null,
   "metadata": {},
   "outputs": [],
   "source": []
  }
 ],
 "metadata": {
  "kernelspec": {
   "display_name": "SageMath 9.3",
   "language": "sage",
   "name": "sagemath"
  },
  "language_info": {
   "codemirror_mode": {
    "name": "ipython",
    "version": 3
   },
   "file_extension": ".py",
   "mimetype": "text/x-python",
   "name": "python",
   "nbconvert_exporter": "python",
   "pygments_lexer": "ipython3",
   "version": "3.7.10"
  }
 },
 "nbformat": 4,
 "nbformat_minor": 4
}
