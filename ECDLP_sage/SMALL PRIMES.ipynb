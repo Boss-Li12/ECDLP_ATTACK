{
 "cells": [
  {
   "cell_type": "code",
   "execution_count": 1,
   "metadata": {},
   "outputs": [],
   "source": [
    "# Known parameters\n",
    "p = 17459102747413984477\n",
    "a, b = 2, 3\n",
    "\n",
    "# Build an object that describes the ellliptic curve\n",
    "ec = EllipticCurve(GF(p), [a, b])\n",
    "\n",
    "# define points\n",
    "G = ec(15579091807671783999, 4313814846862507155)\n",
    "Q = ec(8859996588597792495, 2628834476186361781)"
   ]
  },
  {
   "cell_type": "code",
   "execution_count": 2,
   "metadata": {},
   "outputs": [
    {
     "data": {
      "text/plain": [
       "(8859996588597792495 : 2628834476186361781 : 1)"
      ]
     },
     "execution_count": 2,
     "metadata": {},
     "output_type": "execute_result"
    }
   ],
   "source": [
    "cal_Q = 7868191182322623331 * G\n",
    "cal_Q"
   ]
  },
  {
   "cell_type": "code",
   "execution_count": 3,
   "metadata": {},
   "outputs": [
    {
     "data": {
      "text/plain": [
       "(8859996588597792495 : 2628834476186361781 : 1)"
      ]
     },
     "execution_count": 3,
     "metadata": {},
     "output_type": "execute_result"
    }
   ],
   "source": [
    "Q"
   ]
  },
  {
   "cell_type": "code",
   "execution_count": 4,
   "metadata": {},
   "outputs": [
    {
     "data": {
      "text/plain": [
       "2 * 5 * 11 * 22303 * 36209 * 196539307"
      ]
     },
     "execution_count": 4,
     "metadata": {},
     "output_type": "execute_result"
    }
   ],
   "source": [
    "factor(G.order())"
   ]
  },
  {
   "cell_type": "code",
   "execution_count": 5,
   "metadata": {},
   "outputs": [
    {
     "name": "stdout",
     "output_type": "stream",
     "text": [
      "7868191182322623331\n"
     ]
    }
   ],
   "source": [
    "primes = [2 , 5 , 11 , 22303 , 36209 , 196539307] # factor(G.order())\n",
    "\n",
    "dlogs = []\n",
    "for fac in primes:\n",
    "    t = int(G.order()) // int(fac)\n",
    "    dlog = discrete_log(t*Q, t*G, operation=\"+\")\n",
    "    dlogs += [dlog]\n",
    "    \n",
    "print(crt(dlogs, primes))"
   ]
  },
  {
   "cell_type": "code",
   "execution_count": null,
   "metadata": {},
   "outputs": [],
   "source": []
  }
 ],
 "metadata": {
  "kernelspec": {
   "display_name": "SageMath 9.3",
   "language": "sage",
   "name": "sagemath"
  },
  "language_info": {
   "codemirror_mode": {
    "name": "ipython",
    "version": 3
   },
   "file_extension": ".py",
   "mimetype": "text/x-python",
   "name": "python",
   "nbconvert_exporter": "python",
   "pygments_lexer": "ipython3",
   "version": "3.7.10"
  }
 },
 "nbformat": 4,
 "nbformat_minor": 4
}
