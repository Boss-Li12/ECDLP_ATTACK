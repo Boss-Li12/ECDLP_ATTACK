{
 "cells": [
  {
   "cell_type": "code",
   "execution_count": 1,
   "metadata": {},
   "outputs": [
    {
     "name": "stdout",
     "output_type": "stream",
     "text": [
      "190116434441822299465355144611018694747\n"
     ]
    }
   ],
   "source": [
    "n = 43216667049953267964807040003094883441902922285265979216983383601881964164181\n",
    "U = 18230294945466842193029464818176109628473414458693455272527849780121431872221\n",
    "V = 13100009444194791894141652184719316024656527520759416974806280188465496030062\n",
    "W = 5543957019331266247602346710470760261172306141315670694208966786894467019982\n",
    "\n",
    "E = EllipticCurve(Zmod(n), [0, U, 0, V, W])\n",
    "G = E(6907136022576092896571634972837671088049787669883537619895520267229978111036, 35183770197918519490131925119869132666355991678945374923783026655753112300226)\n",
    "sG = E(14307615146512108428634858855432876073550684773654843931813155864728883306026, 4017273397399838235912099970694615152686460424982458188724369340441833733921)\n",
    "\n",
    "p = 190116434441822299465355144611018694747\n",
    "q = 227316839687407660649258155239617355023\n",
    "\n",
    "assert p * q == n\n",
    "\n",
    "# P curve\n",
    "Ep = EllipticCurve(GF(p), [0, ZZ(U % p), 0, ZZ(V % p), ZZ(W % p)])\n",
    "\n",
    "kp = Ep.order()\n",
    "Gp = Ep(6907136022576092896571634972837671088049787669883537619895520267229978111036, 35183770197918519490131925119869132666355991678945374923783026655753112300226)\n",
    "sGp = Ep(14307615146512108428634858855432876073550684773654843931813155864728883306026, 4017273397399838235912099970694615152686460424982458188724369340441833733921)\n",
    "\n",
    "print(Gp.order())\n",
    "\n",
    "def SmartAttack(P,Q,p):\n",
    "    E = P.curve()\n",
    "    Eqp = EllipticCurve(Qp(p, 2), [ ZZ(t) + randint(0,p)*p for t in E.a_invariants() ])\n",
    "\n",
    "    P_Qps = Eqp.lift_x(ZZ(P.xy()[0]), all=True)\n",
    "    for P_Qp in P_Qps:\n",
    "        if GF(p)(P_Qp.xy()[1]) == P.xy()[1]:\n",
    "            break\n",
    "\n",
    "    Q_Qps = Eqp.lift_x(ZZ(Q.xy()[0]), all=True)\n",
    "    for Q_Qp in Q_Qps:\n",
    "        if GF(p)(Q_Qp.xy()[1]) == Q.xy()[1]:\n",
    "            break\n",
    "\n",
    "    p_times_P = p*P_Qp\n",
    "    p_times_Q = p*Q_Qp\n",
    "\n",
    "    x_P,y_P = p_times_P.xy()\n",
    "    x_Q,y_Q = p_times_Q.xy()\n",
    "\n",
    "    phi_P = -(x_P/y_P)\n",
    "    phi_Q = -(x_Q/y_Q)\n",
    "    k = phi_Q/phi_P\n",
    "    return ZZ(k)\n",
    "\n",
    "p_secret = SmartAttack(Gp,sGp,p)"
   ]
  },
  {
   "cell_type": "code",
   "execution_count": 2,
   "metadata": {},
   "outputs": [
    {
     "data": {
      "text/plain": [
       "35886536999264548257653961517736633452"
      ]
     },
     "execution_count": 2,
     "metadata": {},
     "output_type": "execute_result"
    }
   ],
   "source": [
    "p_secret"
   ]
  },
  {
   "cell_type": "code",
   "execution_count": null,
   "metadata": {},
   "outputs": [],
   "source": []
  }
 ],
 "metadata": {
  "kernelspec": {
   "display_name": "SageMath 9.3",
   "language": "sage",
   "name": "sagemath"
  },
  "language_info": {
   "codemirror_mode": {
    "name": "ipython",
    "version": 3
   },
   "file_extension": ".py",
   "mimetype": "text/x-python",
   "name": "python",
   "nbconvert_exporter": "python",
   "pygments_lexer": "ipython3",
   "version": "3.7.10"
  }
 },
 "nbformat": 4,
 "nbformat_minor": 4
}
