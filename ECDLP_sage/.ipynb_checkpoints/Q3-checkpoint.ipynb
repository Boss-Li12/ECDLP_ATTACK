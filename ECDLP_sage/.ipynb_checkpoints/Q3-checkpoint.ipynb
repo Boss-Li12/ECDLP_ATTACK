{
 "cells": [
  {
   "cell_type": "code",
   "execution_count": null,
   "metadata": {},
   "outputs": [],
   "source": [
    "p =  0x100000000000000000000000000000000000018f3\n",
    "a =  0x1\n",
    "b =  0x0\n",
    "F = GF(p)\n",
    "F"
   ]
  },
  {
   "cell_type": "code",
   "execution_count": 11,
   "metadata": {},
   "outputs": [
    {
     "data": {
      "text/plain": [
       "Elliptic Curve defined by y^2 = x^3 + x over Finite Field of size 1461501637330902918203684832716283019655932549363"
      ]
     },
     "execution_count": 11,
     "metadata": {},
     "output_type": "execute_result"
    }
   ],
   "source": [
    "E = EllipticCurve(F, [a, b])\n",
    "E"
   ]
  },
  {
   "cell_type": "code",
   "execution_count": 12,
   "metadata": {},
   "outputs": [
    {
     "data": {
      "text/plain": [
       "365375409332725729550921208179070754913983137341"
      ]
     },
     "execution_count": 12,
     "metadata": {},
     "output_type": "execute_result"
    }
   ],
   "source": [
    "P = E.point([684019998100054840211147481095914635190453415903, 56305408111182227359718735880386122836372913738])\n",
    "P_order = P.order()\n",
    "P_order"
   ]
  },
  {
   "cell_type": "code",
   "execution_count": 13,
   "metadata": {},
   "outputs": [
    {
     "data": {
      "text/plain": [
       "365375409332725729550921208179070754913983137341"
      ]
     },
     "execution_count": 13,
     "metadata": {},
     "output_type": "execute_result"
    }
   ],
   "source": [
    "factor(P_order)"
   ]
  },
  {
   "cell_type": "code",
   "execution_count": 14,
   "metadata": {},
   "outputs": [
    {
     "data": {
      "text/plain": [
       "1461501637330902918203684832716283019655932549363"
      ]
     },
     "execution_count": 14,
     "metadata": {},
     "output_type": "execute_result"
    }
   ],
   "source": [
    "p"
   ]
  },
  {
   "cell_type": "code",
   "execution_count": 15,
   "metadata": {},
   "outputs": [
    {
     "data": {
      "text/plain": [
       "365375409332725729550921208179070754913983137340"
      ]
     },
     "execution_count": 15,
     "metadata": {},
     "output_type": "execute_result"
    }
   ],
   "source": [
    "p % P_order "
   ]
  },
  {
   "cell_type": "code",
   "execution_count": 16,
   "metadata": {},
   "outputs": [],
   "source": [
    "Q = E.point([1042517685640172869838325751698170388792790341751, 600014912768132632409964071651227335951517428425])"
   ]
  },
  {
   "cell_type": "code",
   "execution_count": 17,
   "metadata": {},
   "outputs": [
    {
     "data": {
      "text/plain": [
       "(1042517685640172869838325751698170388792790341751 : 600014912768132632409964071651227335951517428425 : 1)"
      ]
     },
     "execution_count": 17,
     "metadata": {},
     "output_type": "execute_result"
    }
   ],
   "source": [
    "Q"
   ]
  },
  {
   "cell_type": "code",
   "execution_count": 18,
   "metadata": {},
   "outputs": [
    {
     "data": {
      "text/plain": [
       "1"
      ]
     },
     "execution_count": 18,
     "metadata": {},
     "output_type": "execute_result"
    }
   ],
   "source": [
    "gcd(P_order, p)"
   ]
  },
  {
   "cell_type": "code",
   "execution_count": 19,
   "metadata": {},
   "outputs": [],
   "source": [
    "log_p = log(p, 2).n(digits = 10) #a range to search\n",
    "k = 1\n",
    "for i in range(1, int(log_p)):\n",
    "    if pow(p, i, P_order) == 1:\n",
    "        k = i\n",
    "        break"
   ]
  },
  {
   "cell_type": "code",
   "execution_count": 20,
   "metadata": {},
   "outputs": [
    {
     "data": {
      "text/plain": [
       "2"
      ]
     },
     "execution_count": 20,
     "metadata": {},
     "output_type": "execute_result"
    }
   ],
   "source": [
    "k"
   ]
  },
  {
   "cell_type": "code",
   "execution_count": 21,
   "metadata": {},
   "outputs": [],
   "source": [
    "def MOV2(E, P, Q, k, p):\n",
    "    '''\n",
    "    E = The curve\n",
    "    P = a point of order l\n",
    "    k = embedding degree\n",
    "    '''\n",
    "    #Step 1 compute the number of points in E(F_{p^k}) => N\n",
    "    \n",
    "    m = P.order()\n",
    "    E_k = E.base_extend(GF(p**k))\n",
    "    QK = E_k(Q)\n",
    "    PK  = E_k(P)\n",
    "    \n",
    "    n_list = []\n",
    "    d_list = []\n",
    "    least_common_multiple = 1\n",
    "    \n",
    "    while least_common_multiple !=m:\n",
    "        T = E_k.random_point()\n",
    "        t = T.order()\n",
    "        d = gcd(t, m)\n",
    "        if d in d_list:\n",
    "            continue\n",
    "        T_prime = t//d * T #T_prime has order d | m => T_prime is in E[m]\n",
    "        \n",
    "        alpha = PK.weil_pairing(T_prime, m)\n",
    "        beta = QK.weil_pairing(T_prime, m) # => both are roots in \\mu_d in F_{p^k}\n",
    "        \n",
    "        n = beta.log(alpha)  #this gives n mod d\n",
    "        n_list.append(n)\n",
    "        d_list.append(d)\n",
    "        least_common_multiple = lcm(least_common_multiple, d)\n",
    "    print(n_list)\n",
    "    return n_list[-1]\n",
    "    #return n_list[0] if len(n_list) == 1 else crt(n_list, d_list)"
   ]
  },
  {
   "cell_type": "code",
   "execution_count": null,
   "metadata": {},
   "outputs": [],
   "source": [
    "n_fin = MOV2(E, P, Q, k, p)"
   ]
  },
  {
   "cell_type": "code",
   "execution_count": null,
   "metadata": {},
   "outputs": [],
   "source": [
    "# another try\n",
    "'''\n",
    "# Curve parameters\n",
    "p = 17\n",
    "a, b = 1, -1\n",
    "\n",
    "# Target secret key\n",
    "d = 8\n",
    "\n",
    "# Setup curve\n",
    "E = EllipticCurve(GF(p), [a, b])\n",
    "G = E.gen(0)\n",
    "\n",
    "P = d * G\n",
    "'''\n",
    "\n",
    "# Find the embedding degree\n",
    "# p**k - 1 === 0 (mod order)\n",
    "order = E.order()\n",
    "k = 1\n",
    "while (p**k - 1) % order:\n",
    "    k += 1\n",
    "\n",
    "K.<a> = GF(p**k)\n",
    "EK = E.base_extend(K)\n",
    "PK = EK(P)\n",
    "GK = EK(G)\n",
    "QK = EK.lift_x(a + 2)  # Independent from PK\n",
    "AA = PK.tate_pairing(QK, E.order(), k)\n",
    "GG = GK.tate_pairing(QK, E.order(), k)\n",
    "dlA = AA.log(GG)\n",
    "\n",
    "print(dlA)"
   ]
  }
 ],
 "metadata": {
  "kernelspec": {
   "display_name": "SageMath 9.3",
   "language": "sage",
   "name": "sagemath"
  },
  "language_info": {
   "codemirror_mode": {
    "name": "ipython",
    "version": 3
   },
   "file_extension": ".py",
   "mimetype": "text/x-python",
   "name": "python",
   "nbconvert_exporter": "python",
   "pygments_lexer": "ipython3",
   "version": "3.7.10"
  }
 },
 "nbformat": 4,
 "nbformat_minor": 4
}
