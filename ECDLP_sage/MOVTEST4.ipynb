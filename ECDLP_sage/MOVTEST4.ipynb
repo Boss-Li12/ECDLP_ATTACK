{
 "cells": [
  {
   "cell_type": "code",
   "execution_count": 1,
   "metadata": {},
   "outputs": [
    {
     "name": "stdout",
     "output_type": "stream",
     "text": [
      "P = (0, 3) is the fixed generator, of order 281474976890964\n",
      "Q = (8, 13)\n",
      "T = (97376799036212*t + 48120369294171, 256474201046040*t + 157247794004609), a (random) point of order 140737488445482\n",
      "T = (227206651188398*t + 4089665538228, 178068975193043*t + 272133118429205), a (random) point of order 281474976890964\n",
      "a = e_N(T,P) = 128169886701389*t + 200176406823149\n",
      "b = e_N(T,Q) = 19077272430430*t + 145622767004272\n",
      "b = a^214161860163611\n",
      "solution = 214161860163611\n",
      "Total time = 1.8433282375335693\n"
     ]
    }
   ],
   "source": [
    "import time\n",
    "from sage.arith.functions import LCM_list\n",
    "\n",
    "p = 2^48+180307\n",
    "F.<t> = GF(p^2)\n",
    "E = EllipticCurve(F,[-44, 9])\n",
    "P = E(0,3)\n",
    "N = P.order() # N = p+1\n",
    "Q = E(8,13)\n",
    "print(\"P = \" + str(P.xy()) + \" is the fixed generator, of order \" + str(N))\n",
    "print(\"Q = \" + str(Q.xy()))\n",
    "lcm=N+1\n",
    "L1=[]\n",
    "L2=[]\n",
    "tStart=time.time()\n",
    "while True:\n",
    "    T = E.random_point()\n",
    "    M = T.order()\n",
    "    d = gcd(M,N)\n",
    "    T = ZZ(M/d)*T\n",
    "    print(\"T = \" + str(T.xy()) + \", a (random) point of order \" + str(d))\n",
    "    a = P.weil_pairing(T,N)\n",
    "    n = a.multiplicative_order()\n",
    "    if 0 not in [x%n for x in L2]:\n",
    "        b = Q.weil_pairing(T,N)\n",
    "        l=log(b,a)\n",
    "        L1.append(l)\n",
    "        L2.append(n)\n",
    "        if LCM_list(L2)==N:\n",
    "            m=crt(L1,L2)\n",
    "            print(\"a = e_N(T,P) = \" + str(a))\n",
    "            print(\"b = e_N(T,Q) = \" + str(b))\n",
    "            print(\"b = a^\"+str(l))\n",
    "            print('solution = ' + str(m))\n",
    "            break\n",
    "            \n",
    "tEnd=time.time()\n",
    "tTotal=tEnd-tStart\n",
    "print(\"Total time = \" + str(tTotal))\n",
    "\n"
   ]
  },
  {
   "cell_type": "code",
   "execution_count": 5,
   "metadata": {},
   "outputs": [
    {
     "data": {
      "text/plain": [
       "(8 : 13 : 1)"
      ]
     },
     "execution_count": 5,
     "metadata": {},
     "output_type": "execute_result"
    }
   ],
   "source": [
    "Q"
   ]
  },
  {
   "cell_type": "code",
   "execution_count": 6,
   "metadata": {},
   "outputs": [
    {
     "data": {
      "text/plain": [
       "(8 : 13 : 1)"
      ]
     },
     "execution_count": 6,
     "metadata": {},
     "output_type": "execute_result"
    }
   ],
   "source": [
    "m * P"
   ]
  },
  {
   "cell_type": "code",
   "execution_count": 7,
   "metadata": {},
   "outputs": [
    {
     "data": {
      "text/plain": [
       "Elliptic Curve defined by y^2 = x^3 + 281474976890919*x + 9 over Finite Field in t of size 281474976890963^2"
      ]
     },
     "execution_count": 7,
     "metadata": {},
     "output_type": "execute_result"
    }
   ],
   "source": [
    "E"
   ]
  },
  {
   "cell_type": "code",
   "execution_count": 8,
   "metadata": {},
   "outputs": [
    {
     "data": {
      "text/plain": [
       "281474976890963"
      ]
     },
     "execution_count": 8,
     "metadata": {},
     "output_type": "execute_result"
    }
   ],
   "source": [
    "2^48+180307"
   ]
  },
  {
   "cell_type": "code",
   "execution_count": null,
   "metadata": {},
   "outputs": [],
   "source": []
  }
 ],
 "metadata": {
  "kernelspec": {
   "display_name": "SageMath 9.3",
   "language": "sage",
   "name": "sagemath"
  },
  "language_info": {
   "codemirror_mode": {
    "name": "ipython",
    "version": 3
   },
   "file_extension": ".py",
   "mimetype": "text/x-python",
   "name": "python",
   "nbconvert_exporter": "python",
   "pygments_lexer": "ipython3",
   "version": "3.7.10"
  }
 },
 "nbformat": 4,
 "nbformat_minor": 4
}
